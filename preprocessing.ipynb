{
 "cells": [
  {
   "cell_type": "code",
   "execution_count": null,
   "id": "ce473315-7d62-495f-8861-617a9bce0c1d",
   "metadata": {},
   "outputs": [],
   "source": [
    "import pandas as pd\n",
    "import numpy as np\n",
    "import seaborn as sns"
   ]
  },
  {
   "cell_type": "code",
   "execution_count": null,
   "id": "f7dc7d28-3381-41af-96cd-e4e26fe13a1c",
   "metadata": {},
   "outputs": [],
   "source": [
    "#print dataframe with unrestricted behavioural data\n",
    "data=pd.read_csv(\"unrestricted_danae_8_17_2024_7_10_39.csv\",delimiter=';')\n",
    "#pd.set_option(\"display.max_rows\",None)\n",
    "#data.loc[:, columns_of_interest]\n",
    "data"
   ]
  },
  {
   "cell_type": "code",
   "execution_count": null,
   "id": "2905da1b-f496-4aa5-afd9-02677cc680d4",
   "metadata": {},
   "outputs": [],
   "source": [
    "#print dataframe with restricted behavioural data\n",
    "res=pd.read_csv(\"RESTRICTED_danae_8_17_2024_7_45_0.csv\")\n",
    "pd.set_option('display.max_rows', None)\n",
    "res"
   ]
  },
  {
   "cell_type": "code",
   "execution_count": null,
   "id": "f74a2d59-a038-4569-8565-ea77a65f0a03",
   "metadata": {},
   "outputs": [],
   "source": [
    "famm=res['Family_ID'].unique()\n",
    "len(famm)"
   ]
  },
  {
   "cell_type": "code",
   "execution_count": null,
   "id": "e0aa0292-e9e5-4c4d-8206-dff52da630a2",
   "metadata": {},
   "outputs": [],
   "source": [
    "#merge dataframes into one\n",
    "merged_df = pd.merge(data, res, on='Subject')\n",
    "merged_df"
   ]
  },
  {
   "cell_type": "code",
   "execution_count": null,
   "id": "63e23411-0694-4c4d-a2d7-717ab7170761",
   "metadata": {},
   "outputs": [],
   "source": [
    "fam=merged_df['Family_ID'].unique()\n",
    "len(fam)"
   ]
  },
  {
   "cell_type": "code",
   "execution_count": null,
   "id": "b2dc0d46-b6a8-44d2-9feb-16609affa43e",
   "metadata": {},
   "outputs": [],
   "source": [
    "#after looking up the resting state fMRI measures, print the respective columns\n",
    "columns_of_interest=[\"3T_RS-fMRI_Count\",\"3T_RS-fMRI_PctCompl\"]\n",
    "merged_df.loc[:, columns_of_interest]"
   ]
  },
  {
   "cell_type": "code",
   "execution_count": null,
   "id": "9747a85e-7972-482a-a99b-437aa4e60294",
   "metadata": {},
   "outputs": [],
   "source": [
    "# Print unique values for each column of interest\n",
    "for column in columns_of_interest:\n",
    "    unique_values = merged_df[column].unique()\n",
    "    print(f\"Unique values in column '{column}': {unique_values}\")"
   ]
  },
  {
   "cell_type": "code",
   "execution_count": null,
   "id": "ee450a31-abea-420c-9e81-b2e7fbb21008",
   "metadata": {},
   "outputs": [],
   "source": [
    "# Create a boolean mask where any value in the columns of interest is 0.0\n",
    "mask = (merged_df[columns_of_interest] != 0.0).all(axis=1)\n",
    "mask\n",
    "# Filter the DataFrame using the mask\n",
    "merged_df = merged_df[mask]\n",
    "#pd.set_option(\"display.max_rows\", None)\n",
    "\n",
    "# Print the filtered DataFrame\n",
    "merged_df"
   ]
  },
  {
   "cell_type": "code",
   "execution_count": null,
   "id": "114d6551-5316-4349-850c-b4e8ba27906e",
   "metadata": {},
   "outputs": [],
   "source": [
    "fammm=merged_df['Family_ID'].unique()\n",
    "len(fammm)"
   ]
  },
  {
   "cell_type": "code",
   "execution_count": null,
   "id": "e1a6a8bd-0fd6-4f21-9421-85df4261eef0",
   "metadata": {},
   "outputs": [],
   "source": [
    "# Print unique values for each column of interest after removing 0s (checkpoint)\n",
    "for column in columns_of_interest:\n",
    "    unique_values = merged_df[column].unique()\n",
    "    print(f\"Unique values in column '{column}': {unique_values}\")"
   ]
  },
  {
   "cell_type": "code",
   "execution_count": null,
   "id": "fff440ad-b540-461e-9638-a0ecf5deeb31",
   "metadata": {},
   "outputs": [],
   "source": [
    "#only include participants with genetic data\n",
    "gen=merged_df.loc[:, \"HasGT\"]\n",
    "unique_values = merged_df[\"HasGT\"].unique()\n",
    "unique_values\n",
    "# Create a boolean mask where any value in the columns of interest is True\n",
    "mask1 = merged_df[\"HasGT\"]==True\n",
    "mask1\n",
    "# Filter the DataFrame using the mask\n",
    "merged_df = merged_df[mask1]\n",
    "#pd.set_option('display.max_rows', None)\n",
    "# Print the filtered DataFrame\n",
    "merged_df"
   ]
  },
  {
   "cell_type": "code",
   "execution_count": null,
   "id": "9ec339bc-be0e-482a-872a-cb5f3fce15ef",
   "metadata": {},
   "outputs": [],
   "source": [
    "fammmm=merged_df['Family_ID'].unique()\n",
    "len(fammmm)"
   ]
  },
  {
   "cell_type": "code",
   "execution_count": null,
   "id": "eeb87de5-188b-4524-8c52-cccad0b0493d",
   "metadata": {},
   "outputs": [],
   "source": [
    "# Find Family_IDs that have more than one subject\n",
    "family_counts = merged_df['Family_ID'].value_counts()\n",
    "#family_counts\n",
    "related_families = family_counts[family_counts > 1].index\n",
    "related_families\n",
    "# #Select only rows where Family_ID is not in related_families (this lead to one participant after merging)\n",
    "# unrelated_subjects = merged_df[~merged_df['Family_ID'].isin(related_families)]\n",
    "# unrelated_subjects\n",
    "\n",
    "# Initialize an empty DataFrame to collect sampled subjects\n",
    "sampled_subjects = pd.DataFrame()\n",
    "\n",
    " # Loop through each related family and randomly sample subjects\n",
    "for family_id in related_families:\n",
    "    family_df = merged_df[merged_df['Family_ID'] == family_id]\n",
    "    # Sample 1 subject from each family (or adjust the number as needed)\n",
    "    sampled_df = family_df.sample(n=1, random_state=1)\n",
    "    sampled_subjects = pd.concat([sampled_subjects, sampled_df], ignore_index=True)\n",
    "#sampled_subjects\n",
    "#Select rows from families with only one entry\n",
    "unrelated_subjects = merged_df[~merged_df['Family_ID'].isin(related_families)]\n",
    "\n",
    "# Combine the sampled subjects with unrelated subjects\n",
    "final_df = pd.concat([unrelated_subjects, sampled_subjects], ignore_index=True)\n",
    "\n",
    "print(\"Final DataFrame with Randomly Sampled Subjects:\")\n",
    "final_df\n"
   ]
  },
  {
   "cell_type": "code",
   "execution_count": null,
   "id": "fdebd7e0-d551-4db2-93f1-cebbb197fdce",
   "metadata": {
    "scrolled": true
   },
   "outputs": [],
   "source": [
    "#measures selection\n",
    "measures=[\"Subject\",\n",
    "\"Emotion_Task_Face_Median_RT\",\n",
    "\"Language_Task_Story_Median_RT\",\n",
    "\"Social_Task_Median_RT_TOM\",\"ER40_CRT\",\"WM_Task_0bk_Median_RT\"]\n",
    "# Filter the DataFrame\n",
    "personal = final_df.loc[:, measures]\n",
    "\n",
    "# Display DataFrame\n",
    "personal\n"
   ]
  },
  {
   "cell_type": "code",
   "execution_count": null,
   "id": "823b6c88-3f07-4411-b09d-1d462e598923",
   "metadata": {},
   "outputs": [],
   "source": [
    "# Filter out rows where any element is NaN\n",
    "personal= personal[(personal.notna()).all(axis=1)]\n",
    "# len(work)\n",
    "personal"
   ]
  },
  {
   "cell_type": "code",
   "execution_count": null,
   "id": "b30b0dec-4b48-4c2e-b675-2f0ddb60ef23",
   "metadata": {},
   "outputs": [],
   "source": [
    "#save as csv to use in R\n",
    "personal.to_csv('personal_no', index=False)"
   ]
  }
 ],
 "metadata": {
  "kernelspec": {
   "display_name": "Python 3 (ipykernel)",
   "language": "python",
   "name": "python3"
  },
  "language_info": {
   "codemirror_mode": {
    "name": "ipython",
    "version": 3
   },
   "file_extension": ".py",
   "mimetype": "text/x-python",
   "name": "python",
   "nbconvert_exporter": "python",
   "pygments_lexer": "ipython3",
   "version": "3.10.14"
  }
 },
 "nbformat": 4,
 "nbformat_minor": 5
}
