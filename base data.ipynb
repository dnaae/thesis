{
 "cells": [
  {
   "cell_type": "code",
   "execution_count": 1,
   "id": "47f552d6-5cd2-40f4-8782-a1f062af0c62",
   "metadata": {},
   "outputs": [],
   "source": [
    "import pandas as pd"
   ]
  },
  {
   "cell_type": "code",
   "execution_count": 6,
   "id": "d53f7bcd-c530-46b6-8173-15b7902d9f8a",
   "metadata": {},
   "outputs": [
    {
     "name": "stdout",
     "output_type": "stream",
     "text": [
      "(9112386, 9)\n"
     ]
    }
   ],
   "source": [
    "# Specify the path to your TSV file\n",
    "file_path = '/Users/danae/Downloads/iPSYCH-PGC_ASD_Nov2017'\n",
    "\n",
    "# Read the TSV file into a pandas DataFrame\n",
    "df = pd.read_csv(file_path, sep='\\t', low_memory=False)\n",
    "\n",
    "# Display the first few rows to verify\n",
    "df.head()\n",
    "# Print the dimensions of the DataFrame\n",
    "print(df.shape)\n"
   ]
  },
  {
   "cell_type": "code",
   "execution_count": 8,
   "id": "323d959e-e687-49c7-9ae9-c6a26e3facb7",
   "metadata": {},
   "outputs": [
    {
     "data": {
      "text/plain": [
       "9112386"
      ]
     },
     "execution_count": 8,
     "metadata": {},
     "output_type": "execute_result"
    }
   ],
   "source": [
    "#check for duplicate SNPs -although most QC steps for base data seem to have been performed by the authors of te respective paper\n",
    "# Get unique SNPs in the 'SNP' column\n",
    "unique_snps = df['SNP'].unique()\n",
    "\n",
    "# Display the unique SNPs\n",
    "len(unique_snps)\n"
   ]
  },
  {
   "cell_type": "code",
   "execution_count": 4,
   "id": "5bf2e31b-edf0-4ba0-815a-2e96d6062b73",
   "metadata": {},
   "outputs": [
    {
     "data": {
      "text/html": [
       "<div>\n",
       "<style scoped>\n",
       "    .dataframe tbody tr th:only-of-type {\n",
       "        vertical-align: middle;\n",
       "    }\n",
       "\n",
       "    .dataframe tbody tr th {\n",
       "        vertical-align: top;\n",
       "    }\n",
       "\n",
       "    .dataframe thead th {\n",
       "        text-align: right;\n",
       "    }\n",
       "</style>\n",
       "<table border=\"1\" class=\"dataframe\">\n",
       "  <thead>\n",
       "    <tr style=\"text-align: right;\">\n",
       "      <th></th>\n",
       "      <th>CHR</th>\n",
       "      <th>SNP</th>\n",
       "      <th>BP</th>\n",
       "      <th>A1</th>\n",
       "      <th>A2</th>\n",
       "      <th>INFO</th>\n",
       "      <th>OR</th>\n",
       "      <th>SE</th>\n",
       "      <th>P</th>\n",
       "    </tr>\n",
       "  </thead>\n",
       "  <tbody>\n",
       "    <tr>\n",
       "      <th>6092957</th>\n",
       "      <td>7</td>\n",
       "      <td>rs1718101</td>\n",
       "      <td>146122788</td>\n",
       "      <td>T</td>\n",
       "      <td>C</td>\n",
       "      <td>0.879</td>\n",
       "      <td>1.07144</td>\n",
       "      <td>0.0328</td>\n",
       "      <td>0.03558</td>\n",
       "    </tr>\n",
       "  </tbody>\n",
       "</table>\n",
       "</div>"
      ],
      "text/plain": [
       "         CHR        SNP         BP A1 A2   INFO       OR      SE        P\n",
       "6092957    7  rs1718101  146122788  T  C  0.879  1.07144  0.0328  0.03558"
      ]
     },
     "execution_count": 4,
     "metadata": {},
     "output_type": "execute_result"
    }
   ],
   "source": [
    "#according to Anney et al. (2012), this SNP achieves the lowest p-value\n",
    "# Filter the dataframe to find the row(s) containing the specific SNP\n",
    "snp_data = df[df['SNP'] == \"rs1718101\"]\n",
    "\n",
    "# Display the result\n",
    "snp_data\n"
   ]
  },
  {
   "cell_type": "code",
   "execution_count": 1,
   "id": "26a94e03-c008-4560-8624-601d662f5752",
   "metadata": {},
   "outputs": [
    {
     "data": {
      "text/html": [
       "<div>\n",
       "<style scoped>\n",
       "    .dataframe tbody tr th:only-of-type {\n",
       "        vertical-align: middle;\n",
       "    }\n",
       "\n",
       "    .dataframe tbody tr th {\n",
       "        vertical-align: top;\n",
       "    }\n",
       "\n",
       "    .dataframe thead th {\n",
       "        text-align: right;\n",
       "    }\n",
       "</style>\n",
       "<table border=\"1\" class=\"dataframe\">\n",
       "  <thead>\n",
       "    <tr style=\"text-align: right;\">\n",
       "      <th></th>\n",
       "      <th>CHR</th>\n",
       "      <th>SNP</th>\n",
       "      <th>BP</th>\n",
       "      <th>A1</th>\n",
       "      <th>A2</th>\n",
       "      <th>INFO</th>\n",
       "      <th>OR</th>\n",
       "      <th>SE</th>\n",
       "      <th>P</th>\n",
       "    </tr>\n",
       "  </thead>\n",
       "  <tbody>\n",
       "    <tr>\n",
       "      <th>0</th>\n",
       "      <td>8</td>\n",
       "      <td>rs62513865</td>\n",
       "      <td>101592213</td>\n",
       "      <td>T</td>\n",
       "      <td>C</td>\n",
       "      <td>0.949</td>\n",
       "      <td>1.00652</td>\n",
       "      <td>0.0270</td>\n",
       "      <td>0.808600</td>\n",
       "    </tr>\n",
       "    <tr>\n",
       "      <th>1</th>\n",
       "      <td>8</td>\n",
       "      <td>rs79643588</td>\n",
       "      <td>106973048</td>\n",
       "      <td>A</td>\n",
       "      <td>G</td>\n",
       "      <td>0.997</td>\n",
       "      <td>1.01786</td>\n",
       "      <td>0.0240</td>\n",
       "      <td>0.460600</td>\n",
       "    </tr>\n",
       "    <tr>\n",
       "      <th>2</th>\n",
       "      <td>8</td>\n",
       "      <td>rs17396518</td>\n",
       "      <td>108690829</td>\n",
       "      <td>T</td>\n",
       "      <td>G</td>\n",
       "      <td>0.987</td>\n",
       "      <td>0.96127</td>\n",
       "      <td>0.0140</td>\n",
       "      <td>0.004647</td>\n",
       "    </tr>\n",
       "    <tr>\n",
       "      <th>3</th>\n",
       "      <td>8</td>\n",
       "      <td>rs983166</td>\n",
       "      <td>108681675</td>\n",
       "      <td>A</td>\n",
       "      <td>C</td>\n",
       "      <td>0.998</td>\n",
       "      <td>0.97990</td>\n",
       "      <td>0.0139</td>\n",
       "      <td>0.145200</td>\n",
       "    </tr>\n",
       "    <tr>\n",
       "      <th>4</th>\n",
       "      <td>8</td>\n",
       "      <td>rs28842593</td>\n",
       "      <td>103044620</td>\n",
       "      <td>T</td>\n",
       "      <td>C</td>\n",
       "      <td>0.857</td>\n",
       "      <td>0.99591</td>\n",
       "      <td>0.0203</td>\n",
       "      <td>0.841500</td>\n",
       "    </tr>\n",
       "  </tbody>\n",
       "</table>\n",
       "</div>"
      ],
      "text/plain": [
       "   CHR         SNP         BP A1 A2   INFO       OR      SE         P\n",
       "0    8  rs62513865  101592213  T  C  0.949  1.00652  0.0270  0.808600\n",
       "1    8  rs79643588  106973048  A  G  0.997  1.01786  0.0240  0.460600\n",
       "2    8  rs17396518  108690829  T  G  0.987  0.96127  0.0140  0.004647\n",
       "3    8    rs983166  108681675  A  C  0.998  0.97990  0.0139  0.145200\n",
       "4    8  rs28842593  103044620  T  C  0.857  0.99591  0.0203  0.841500"
      ]
     },
     "execution_count": 1,
     "metadata": {},
     "output_type": "execute_result"
    }
   ],
   "source": [
    "#performed ambiguous SNP removal via terminal\n",
    "\n",
    "# awk '!( ($4==\"A\" && $5==\"T\") || \\\n",
    "#         ($4==\"T\" && $5==\"A\") || \\\n",
    "#         ($4==\"G\" && $5==\"C\") || \\\n",
    "#         ($4==\"C\" && $5==\"G\")) {print}' /Downloads/iPSYCH-PGC_ASD_Nov2017 > /Users/Downloads/iPSYCH-PGC_ASD_Nov2017_filtered.txt\n",
    "\n",
    "# Specify the path to filtered text file\n",
    "file_path = '/Downloads/iPSYCH-PGC_ASD_Nov2017_filtered.txt'\n",
    "\n",
    "# Load the data into a pandas DataFrame\n",
    "df = pd.read_csv(file_path, sep='\\t', low_memory=False)\n",
    "\n",
    "\n"
   ]
  },
  {
   "cell_type": "code",
   "execution_count": 4,
   "id": "79b4b42a-728a-463e-b124-5464d209d331",
   "metadata": {},
   "outputs": [
    {
     "data": {
      "text/plain": [
       "(7851684, 9)"
      ]
     },
     "execution_count": 4,
     "metadata": {},
     "output_type": "execute_result"
    }
   ],
   "source": [
    "# Print total number of base data SNPs\n",
    "df.shape"
   ]
  }
 ],
 "metadata": {
  "kernelspec": {
   "display_name": "Python 3 (ipykernel)",
   "language": "python",
   "name": "python3"
  },
  "language_info": {
   "codemirror_mode": {
    "name": "ipython",
    "version": 3
   },
   "file_extension": ".py",
   "mimetype": "text/x-python",
   "name": "python",
   "nbconvert_exporter": "python",
   "pygments_lexer": "ipython3",
   "version": "3.10.14"
  }
 },
 "nbformat": 4,
 "nbformat_minor": 5
}
