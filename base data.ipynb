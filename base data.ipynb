{
 "cells": [
  {
   "cell_type": "code",
   "execution_count": null,
   "id": "47f552d6-5cd2-40f4-8782-a1f062af0c62",
   "metadata": {},
   "outputs": [],
   "source": [
    "import pandas as pd"
   ]
  },
  {
   "cell_type": "code",
   "execution_count": null,
   "id": "d53f7bcd-c530-46b6-8173-15b7902d9f8a",
   "metadata": {},
   "outputs": [],
   "source": [
    "# Specify path to base data\n",
    "file_path = '/Downloads/iPSYCH-PGC_ASD_Nov2017'\n",
    "\n",
    "# Read the TSV file into a pandas DataFrame\n",
    "df = pd.read_csv(file_path, sep='\\t', low_memory=False)\n",
    "\n",
    "# Display the first few rows to verify\n",
    "df.head()\n",
    "# Print the dimensions of the DataFrame\n",
    "print(df.shape)\n"
   ]
  },
  {
   "cell_type": "code",
   "execution_count": null,
   "id": "323d959e-e687-49c7-9ae9-c6a26e3facb7",
   "metadata": {},
   "outputs": [],
   "source": [
    "#check for duplicate SNPs -although most QC steps for base data seem to have been performed by the authors of te respective paper\n",
    "# Get unique SNPs in the 'SNP' column\n",
    "unique_snps = df['SNP'].unique()\n",
    "\n",
    "# Display the unique SNPs\n",
    "len(unique_snps)\n"
   ]
  },
  {
   "cell_type": "code",
   "execution_count": null,
   "id": "5bf2e31b-edf0-4ba0-815a-2e96d6062b73",
   "metadata": {},
   "outputs": [],
   "source": [
    "#according to Anney et al. (2012), this SNP achieves the lowest p-value, check if it can be found in my dataframe\n",
    "# Filter the dataframe to find the row(s) containing the specific SNP\n",
    "snp_data = df[df['SNP'] == \"rs1718101\"]\n",
    "\n",
    "# Display the result\n",
    "snp_data\n"
   ]
  },
  {
   "cell_type": "code",
   "execution_count": null,
   "id": "26a94e03-c008-4560-8624-601d662f5752",
   "metadata": {},
   "outputs": [],
   "source": [
    "#performed ambiguous SNP removal via terminal\n",
    "\n",
    "# awk '!( ($4==\"A\" && $5==\"T\") || \\\n",
    "#         ($4==\"T\" && $5==\"A\") || \\\n",
    "#         ($4==\"G\" && $5==\"C\") || \\\n",
    "#         ($4==\"C\" && $5==\"G\")) {print}' /Downloads/iPSYCH-PGC_ASD_Nov2017 > /Users/Downloads/iPSYCH-PGC_ASD_Nov2017_filtered.txt\n",
    "\n",
    "# Specify the path to filtered text file\n",
    "file_path = '/Downloads/iPSYCH-PGC_ASD_Nov2017_filtered.txt'\n",
    "\n",
    "# Load the data into a pandas DataFrame\n",
    "df = pd.read_csv(file_path, sep='\\t', low_memory=False)\n",
    "\n",
    "\n"
   ]
  },
  {
   "cell_type": "code",
   "execution_count": null,
   "id": "79b4b42a-728a-463e-b124-5464d209d331",
   "metadata": {},
   "outputs": [],
   "source": [
    "# Print total number of base data SNPs\n",
    "df.shape"
   ]
  }
 ],
 "metadata": {
  "kernelspec": {
   "display_name": "Python 3 (ipykernel)",
   "language": "python",
   "name": "python3"
  },
  "language_info": {
   "codemirror_mode": {
    "name": "ipython",
    "version": 3
   },
   "file_extension": ".py",
   "mimetype": "text/x-python",
   "name": "python",
   "nbconvert_exporter": "python",
   "pygments_lexer": "ipython3",
   "version": "3.10.14"
  }
 },
 "nbformat": 4,
 "nbformat_minor": 5
}
